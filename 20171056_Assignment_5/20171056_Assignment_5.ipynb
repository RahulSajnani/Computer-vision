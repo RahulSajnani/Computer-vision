{
 "cells": [
  {
   "cell_type": "code",
   "execution_count": 1,
   "metadata": {},
   "outputs": [],
   "source": [
    "import numpy as np\n",
    "import matplotlib.pyplot as plt\n",
    "import cv2\n"
   ]
  },
  {
   "cell_type": "code",
   "execution_count": 34,
   "metadata": {},
   "outputs": [],
   "source": [
    "def compute_image_derivative(image):\n",
    "    \n",
    "    '''\n",
    "    Function to compute image derivative along x and y axis\n",
    "    \n",
    "    Input:\n",
    "        image - H x W - input image\n",
    "    Returns:\n",
    "        list of image derivatives along x and y axis \n",
    "    '''\n",
    "    \n",
    "    image_x_filter = np.array([[ -1,  0,  1],\n",
    "                               [ -1,  0,  1],\n",
    "                               [ -1,  0,  1]])\n",
    "    \n",
    "    image_y_filter = np.array([[ -1, -1, -1],\n",
    "                               [  0,  0,  0],\n",
    "                               [  1,  1,  1]])\n",
    "    \n",
    "    image_x_derivative = cv2.filter2D(image, -1, image_x_filter)\n",
    "    image_y_derivative = cv2.filter2D(image, -1, image_y_filter)\n",
    "    \n",
    "    return [image_x_derivative, image_y_derivative]\n",
    "    \n",
    "def compute_optical_flow(image_1, image_2, filter_size):\n",
    "    \n",
    "    '''\n",
    "    Computes optical flow between two images\n",
    "    \n",
    "    Input:\n",
    "        image_1 - H x W - input image 1\n",
    "        image_2 - H x W - input image 2\n",
    "        filter_size - tuple - filter size\n",
    "        \n",
    "    Returns:\n",
    "        flow_matrix - H x W x 2 - matrix with flow vectors\n",
    "        \n",
    "    '''\n",
    "    \n",
    "    image_1_derivative = compute_image_derivative(image_1)\n",
    "    image_2_derivative = compute_image_derivative(image_2)\n",
    "    \n",
    "    # dx^2\n",
    "    image_x_derivative_square = image_1_derivative[0] * image_1_derivative[0]\n",
    "    \n",
    "    # dy^2\n",
    "    image_y_derivative_square = image_1_derivative[1] * image_1_derivative[1]\n",
    "    \n",
    "    # dx*dy\n",
    "    image_xy_derivative = image_1_derivative[0] * image_1_derivative[1]\n",
    "    \n",
    "    # dt \n",
    "    image_t_derivative = image_2 - image_1\n",
    "    \n",
    "    image_xt_derivative = image_1_derivative[0] * image_t_derivative\n",
    "    image_yt_derivative = image_1_derivative[1] * image_t_derivative\n",
    "    \n",
    "    summation_filter = np.ones(filter_size)\n",
    "    \n",
    "    # computing summation dx^2, dy^2, dx*dt, dy*dt, dx*dy\n",
    "    image_xt_derivative_summation = cv2.filter2D(image_xt_derivative, -1, summation_filter)\n",
    "    image_yt_derivative_summation = cv2.filter2D(image_yt_derivative, -1, summation_filter)\n",
    "    image_x_derivative_square_summation = cv2.filter2D(image_x_derivative_square, -1, summation_filter)\n",
    "    image_y_derivative_square_summation = cv2.filter2D(image_y_derivative_square, -1, summation_filter)\n",
    "    image_xy_derivative_summation = cv2.filter2D(image_xy_derivative, -1, summation_filter)\n",
    "    \n",
    "    flow_matrix = np.zeros((image_1.shape[0], image_1.shape[1], 2))\n",
    "    \n",
    "    for i in range(image_1.shape[0]):\n",
    "        \n",
    "        for j in range(image_1.shape[1]):\n",
    "            \n",
    "            optical_flow_mat = np.array([[image_x_derivative_square_summation[i, j], image_xy_derivative_summation[i, j]], \n",
    "                                        [image_xy_derivative_summation[i, j], image_y_derivative_square_summation[i, j]]])\n",
    "            # print(optical_flow_mat.shape)\n",
    "            b = np.array([[image_xt_derivative_summation[i, j]], [image_yt_derivative_summation[i, j]]])\n",
    "            \n",
    "            flow_vector = np.linalg.pinv(optical_flow_mat) @ b\n",
    "            flow_matrix[i, j, :] = flow_vector.T\n",
    "            # print(flow_vector)\n",
    "        # print(i)\n",
    "    \n",
    "    \n",
    "    print('Optical flow computed')\n",
    "    return flow_matrix"
   ]
  },
  {
   "cell_type": "code",
   "execution_count": 35,
   "metadata": {},
   "outputs": [
    {
     "name": "stdout",
     "output_type": "stream",
     "text": [
      "Optical flow computed\n"
     ]
    }
   ],
   "source": [
    "if __name__ == '__main__':\n",
    "    \n",
    "    dataset = './eval-data-gray'\n",
    "    \n",
    "    directory = '/Dumptruck'\n",
    "    image_1_path = dataset + directory + '/frame10.png'\n",
    "    image_2_path = dataset + directory + '/frame11.png'\n",
    "    \n",
    "    image_1 = cv2.imread(image_1_path)\n",
    "    image_1 = cv2.cvtColor(image_1, cv2.COLOR_BGR2GRAY)\n",
    "    image_2 = cv2.imread(image_2_path)\n",
    "    image_2 = cv2.cvtColor(image_2, cv2.COLOR_BGR2GRAY)\n",
    "    \n",
    "    # plt.subplot(321)\n",
    "    # plt.imshow(image_1)\n",
    "    # plt.subplot(322)\n",
    "    # plt.imshow(image_2)\n",
    "    \n",
    "    filter_size = (5, 5)\n",
    "    flow_matrix = compute_optical_flow(image_1, image_2, filter_size)\n",
    "    \n",
    "    \n",
    "    "
   ]
  },
  {
   "cell_type": "code",
   "execution_count": null,
   "metadata": {},
   "outputs": [],
   "source": [
    "    "
   ]
  }
 ],
 "metadata": {
  "kernelspec": {
   "display_name": "Python (SMAI)",
   "language": "python",
   "name": "myenv"
  },
  "language_info": {
   "codemirror_mode": {
    "name": "ipython",
    "version": 3
   },
   "file_extension": ".py",
   "mimetype": "text/x-python",
   "name": "python",
   "nbconvert_exporter": "python",
   "pygments_lexer": "ipython3",
   "version": "3.7.3"
  }
 },
 "nbformat": 4,
 "nbformat_minor": 2
}
